{
  "nbformat": 4,
  "nbformat_minor": 0,
  "metadata": {
    "colab": {
      "name": "1주차과제.ipynb",
      "provenance": [],
      "authorship_tag": "ABX9TyN5Qm8XcQ+Mz09AlcpXEtrC",
      "include_colab_link": true
    },
    "kernelspec": {
      "name": "python3",
      "display_name": "Python 3"
    }
  },
  "cells": [
    {
      "cell_type": "markdown",
      "metadata": {
        "id": "view-in-github",
        "colab_type": "text"
      },
      "source": [
        "<a href=\"https://colab.research.google.com/github/kim-euichang/kim-euichang.github.io/blob/master/1%EC%A3%BC%EC%B0%A8%EA%B3%BC%EC%A0%9C.ipynb\" target=\"_parent\"><img src=\"https://colab.research.google.com/assets/colab-badge.svg\" alt=\"Open In Colab\"/></a>"
      ]
    },
    {
      "cell_type": "markdown",
      "metadata": {
        "id": "4B60AgsrI_bL",
        "colab_type": "text"
      },
      "source": [
        "언어, 음성, 이미지, 자율주행\n",
        "인공지능은 현재 많은 제품과 서비스에 적용되어 있습니다. 특히 언어, 음성, 이미지, 자율주행의 분야에서 자주 찾아볼 수 있는데요.\n",
        "시중에 나와있는 다양한 제품들과 서비스 속 적용된 인공지능 기술들에 대해서 분석해 보고 여러분의 흥미를 끄는 기술들은 무엇이 있는지 찾아 보며 여러분 나름의 학습 목표를 세워보시기 바랍니다.\n",
        "\n",
        "앞서 제시해 드린 4가지 분야의 기술을 사용하는 4가지 제품 및 서비스를 찾아 깃헙 마크다운으로 작성하여 url과 여러분의 과제 목차 스크린 캡처를 제출해주세요.\n",
        "\n",
        "##인공지능 활용 사례\n",
        "\n",
        "1. 구글 번역(언어)\n",
        "\n",
        "<이미지>![구글번역](https://commons.wikimedia.org/wiki/File:Google_Translate_Icon.png)\n",
        "\n",
        "언어쪽으로 관련된 인공지능의 경우 대표적인 경우로 볼수 있는게 구글 번역이다.\n",
        "2006년 처음 만들어졌을 때는 4개 외국어는 영어, 중국어, 프랑스어, 스페인어로 시작으로 2013년까지 71개 언어를 지원했다. 그러나 통계적인 기계번역의 한계로 인해 정확도가 확연히 떨어졌다. 2016년 9월 28일부터 알파고에도 쓰인 딥러닝 기술을 적용하면서 오류가 획기적으로 줄어들기 시작했다. \n"
      ]
    }
  ]
}