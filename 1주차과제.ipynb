{
  "nbformat": 4,
  "nbformat_minor": 0,
  "metadata": {
    "colab": {
      "name": "1주차과제.ipynb",
      "provenance": [],
      "collapsed_sections": [],
      "authorship_tag": "ABX9TyMsMvbn+g4qAJqy13IkT/a2",
      "include_colab_link": true
    },
    "kernelspec": {
      "name": "python3",
      "display_name": "Python 3"
    }
  },
  "cells": [
    {
      "cell_type": "markdown",
      "metadata": {
        "id": "view-in-github",
        "colab_type": "text"
      },
      "source": [
        "<a href=\"https://colab.research.google.com/github/kim-euichang/kim-euichang.github.io/blob/master/1%EC%A3%BC%EC%B0%A8%EA%B3%BC%EC%A0%9C.ipynb\" target=\"_parent\"><img src=\"https://colab.research.google.com/assets/colab-badge.svg\" alt=\"Open In Colab\"/></a>"
      ]
    },
    {
      "cell_type": "markdown",
      "metadata": {
        "id": "4B60AgsrI_bL",
        "colab_type": "text"
      },
      "source": [
        "언어, 음성, 이미지, 자율주행\n",
        "##인공지능 활용 사례\n",
        "\n",
        "###1. 구글 번역(언어)\n",
        "![구글번역](https://t1.daumcdn.net/cfile/tistory/267BF84E582EA52403)\n",
        "언어쪽으로 관련된 인공지능의 경우 대표적인 경우로 볼수 있는게 구글 번역이다.\n",
        "2006년 처음 만들어졌을 때는 문구기반 기계 번역'(PBMT) 시스템으로 영어, 중국어, 프랑스어, 스페인어 총 4가지 언어를 기반으로 시작해서 2013년까지 71개 언어를 지원했다. 그러나 통계적인 기계번역의 한계로 인해 정확도가 확연히 떨어졌다. 2016년 9월 28일부터 알파고에도 쓰인 딥러닝 기술인 구글 신경 기계 번역(GNMT) 시스템 기술을 적용하면서 오류가 획기적으로 줄어들기 시작했다. GNMT 번역 내용을 사람이 직접 감수한 결과 기존 PBMT 번역에 비해 오류가 평균 60%, 언어에 따라 58%(영어-중국어)에서 87%(영어-스페인어)까지 줄었다고 한다.\n",
        "\n",
        "###2. 아마존 알렉사(음성)\n",
        "![알렉사](https://f1.codingworldnews.com/2019/06/q10ytewlrs.png)\n",
        "\n",
        "음성을 활용한 인공지능의 경우 아마존의 알렉사가 돋보인다 2014년 11월 6일 아마존이 알렉사와 함께 아마존 에코라는 스마트 스피커를 출시하면서 시작 되었다. 사용자는 아마존 에코를 이용해 알렉사와 의사소통을 할 수 있으며, 알렉사는 음악재생, 알람설정, 날씨정보 제공, 교통정보 제공 등 많은 기능들을 제공해준다. 알렉사는 클라우드 기반으로 작동되기 때문에, 알렉사를 자주 사용할 수록, 알렉사는 사용자가 말하는 패턴, 단어, 개인적인 기호등을 학습해서 더 잘 받아들인다.\n",
        "\n",
        "![누미](http://www.aitimes.com/news/photo/201911/122625_117773_3822.jpeg)__누미__\n",
        "\n",
        "알렉사의 음성인식을 적용시킨 제품으로는 누미가 있다. 아마존의 인공지능 비서 알렉사를 내장하고, 애플의 시리와 구글 어시스턴트에 반응하며 음성명령을 인식하는 스마트 변기이다. 이 변기는 화장실을 지능형 공간으로 바꿔주는 컨트롤 기기 역할을 한다.조명 조절부터 보일러 온수 가동, 신문 읽기 등 욕실 내 변기에 앉아서 필요한 모든 일을 처리할 수 있다. 화장실에서 듣는 음악도 다르고, 비데를 사용하는 방법도 각양각색이다. 변기에 앉아서 음성으로 여러 가지 명령을 하는 동안 사용자의 습관을 학습해서 화장실에서 일어나는 모든 일을 사용자 중심으로 설정한다. 사용자의 일상 패턴에 맞춘 개인 화장실을 만들 수 있다.\n",
        "\n",
        "###3.구글 렌즈(이미지)\n",
        "![구글렌즈](https://upload.wikimedia.org/wikipedia/commons/thumb/f/f9/Google_Lens_-_new_logo.png/240px-Google_Lens_-_new_logo.png)\n",
        "이미지를 찾고  구글렌"
      ]
    }
  ]
}